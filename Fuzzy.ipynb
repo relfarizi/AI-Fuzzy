{
  "nbformat": 4,
  "nbformat_minor": 0,
  "metadata": {
    "colab": {
      "name": "Tugas_AI_3.ipynb",
      "provenance": [],
      "private_outputs": true,
      "collapsed_sections": []
    },
    "kernelspec": {
      "name": "python3",
      "display_name": "Python 3"
    }
  },
  "cells": [
    {
      "cell_type": "markdown",
      "metadata": {
        "id": "9zyOxF0TqkNw",
        "colab_type": "text"
      },
      "source": [
        "# Fuzzy Logic"
      ]
    },
    {
      "cell_type": "markdown",
      "metadata": {
        "id": "nchvfdz9qpwY",
        "colab_type": "text"
      },
      "source": [
        "**Mengambl Data dari CSV**"
      ]
    },
    {
      "cell_type": "code",
      "metadata": {
        "id": "uFDOH90qd2IF",
        "colab_type": "code",
        "colab": {}
      },
      "source": [
        "import pandas as pd\n",
        "file = 'https://drive.google.com/uc?export=download&id=13rPd4jKz53vw70I8pGGknZmp2tCXtRxL'\n",
        "data = pd.read_csv(file)\n",
        "id=[]\n",
        "kompetensi=[]\n",
        "kepribadian=[]\n",
        "diterima=[]\n",
        "for index, row in data.iterrows():\n",
        "      id.append(row['id'])\n",
        "      kompetensi.append(row['kompetensi'])\n",
        "      kepribadian.append(row['kepribadian'])\n",
        "      diterima.append(row['diterima'])\n",
        "data\n"
      ],
      "execution_count": null,
      "outputs": []
    },
    {
      "cell_type": "markdown",
      "metadata": {
        "id": "zfIyzQGcZejA",
        "colab_type": "text"
      },
      "source": [
        "**Fungsi Keanggotaan untuk variabel Kompetensi**"
      ]
    },
    {
      "cell_type": "code",
      "metadata": {
        "id": "laqGUzaRZg4F",
        "colab_type": "code",
        "colab": {}
      },
      "source": [
        "def jenis_kompetensi(x,awal,akhir):\n",
        "  if x <= awal:\n",
        "    return 0 \n",
        "  elif(x>=akhir):\n",
        "    return 2\n",
        "  else:\n",
        "    return 1"
      ],
      "execution_count": null,
      "outputs": []
    },
    {
      "cell_type": "code",
      "metadata": {
        "id": "TOxGEEDTaGgH",
        "colab_type": "code",
        "colab": {}
      },
      "source": [
        "def rockie_kompetensi(x,awal,akhir):\n",
        "\n",
        "  if(x<=awal):\n",
        "    result = 1\n",
        "  elif(x>=akhir):\n",
        "    result = 0\n",
        "  else :\n",
        "    result = (x-awal)/(akhir-awal)\n",
        "  return result\n",
        "  "
      ],
      "execution_count": null,
      "outputs": []
    },
    {
      "cell_type": "code",
      "metadata": {
        "id": "ovLAoK9waLBA",
        "colab_type": "code",
        "colab": {}
      },
      "source": [
        "def mid_kompetensi(x,awal1,awal2,akhir1,akhir2):\n",
        "   if(x>awal1 and x<awal2):\n",
        "    result = (x-awal1)/(awal2-awal1)\n",
        "   elif(x>akhir1 and x<akhir2):\n",
        "    result = ((x-akhir1)/(akhir1-akhir2))*(-1)\n",
        "   elif(x>=awal2 and x<=akhir1):\n",
        "    result =  1\n",
        "   else:\n",
        "    result = 0\n",
        "   return result\n",
        "  "
      ],
      "execution_count": null,
      "outputs": []
    },
    {
      "cell_type": "code",
      "metadata": {
        "id": "-FRZ-T4KaQfR",
        "colab_type": "code",
        "colab": {}
      },
      "source": [
        "def advance_kompetensi(x,awal,akhir):\n",
        "  if(x<=awal):\n",
        "    result = 0\n",
        "  elif(x>=akhir):\n",
        "    result = 1\n",
        "  else:\n",
        "    result = ((x-akhir)/(akhir - awal))*(-1)\n",
        "  return result\n",
        "  "
      ],
      "execution_count": null,
      "outputs": []
    },
    {
      "cell_type": "markdown",
      "metadata": {
        "id": "eETUf8Lhe792",
        "colab_type": "text"
      },
      "source": [
        "**Fungsi Keanggotaan untuk variabel kepribadian**"
      ]
    },
    {
      "cell_type": "code",
      "metadata": {
        "id": "w8sMd6gOtkW1",
        "colab_type": "code",
        "colab": {}
      },
      "source": [
        "def jenis_kepribadian(x,awal,akhir):\n",
        "  if x <= awal:\n",
        "    return 0 \n",
        "  elif(x>=akhir):\n",
        "    return 2\n",
        "  else:\n",
        "    return 1"
      ],
      "execution_count": null,
      "outputs": []
    },
    {
      "cell_type": "code",
      "metadata": {
        "id": "f4edGPAuagKL",
        "colab_type": "code",
        "colab": {}
      },
      "source": [
        "def  bad_kepribadian(x,awal,akhir):\n",
        "\n",
        "  if(x<=awal):\n",
        "    result = 1\n",
        "  elif(x>=akhir):\n",
        "    result = 0\n",
        "  else :\n",
        "    result = (x-awal)/(akhir-awal)\n",
        "  return result"
      ],
      "execution_count": null,
      "outputs": []
    },
    {
      "cell_type": "code",
      "metadata": {
        "id": "cVb8eEf0fAej",
        "colab_type": "code",
        "colab": {}
      },
      "source": [
        "def mid_kepribadian(x,awal1,awal2,akhir1,akhir2):\n",
        "  if(x>awal1 and x<awal2):\n",
        "    result = (x-awal1)/(awal2-awal1)\n",
        "  elif(x>akhir1 and x<akhir2):\n",
        "    result = ((x-akhir1)/(akhir1-akhir2))*(-1)\n",
        "  elif(x>=awal2 and x<=akhir1):\n",
        "    result =  1\n",
        "  else:\n",
        "    result = 0\n",
        "  return result\n",
        "  "
      ],
      "execution_count": null,
      "outputs": []
    },
    {
      "cell_type": "code",
      "metadata": {
        "id": "FRepprSSfEK_",
        "colab_type": "code",
        "colab": {}
      },
      "source": [
        "def good_kepribadian(x,awal,akhir):\n",
        "  if(x<=awal):\n",
        "    result = 0\n",
        "  elif(x>=akhir):\n",
        "    result = 1\n",
        "  else:\n",
        "    result =  ((x-akhir)/(akhir - awal))*(-1)\n",
        "  return result"
      ],
      "execution_count": null,
      "outputs": []
    },
    {
      "cell_type": "markdown",
      "metadata": {
        "id": "M7s6cf4PfO6l",
        "colab_type": "text"
      },
      "source": [
        "**Fuzzification**"
      ]
    },
    {
      "cell_type": "code",
      "metadata": {
        "id": "nb4AkPpjfbqp",
        "colab_type": "code",
        "colab": {}
      },
      "source": [
        "def fuzzification(id,kompetensi,kepribadian,diterima):\n",
        "  x1_kompetensi = 43.\n",
        "  x2_kompetensi = 63.\n",
        "  x3_kompetensi = 50\n",
        "  x4_kompetensi = 70.\n",
        "  \n",
        "  x1_kepribadian = 20.\n",
        "  x2_kepribadian = 30.\n",
        "  x3_kepribadian = 60.\n",
        "  x4_kepribadian = 70.\n",
        "  \n",
        "  komp = []\n",
        "  kepr = []\n",
        "  j_komp = []\n",
        "  j_kepr = []\n",
        "  gabungan = []\n",
        "  min_komp = []\n",
        "  min_kepr = []\n",
        "  \n",
        "  for i in range(30) :\n",
        "   \n",
        "   x1=kompetensi[i]\n",
        "   x2=kepribadian[i]\n",
        "  \n",
        "   komp.append([rockie_kompetensi(x1,x1_kompetensi,x2_kompetensi),mid_kompetensi(x1,x1_kompetensi,x2_kompetensi,x3_kompetensi,x4_kompetensi),advance_kompetensi(x1,x3_kompetensi,x4_kompetensi),jenis_kompetensi(x1,x2_kompetensi,x3_kompetensi)]) \n",
        "   kepr.append([bad_kepribadian(x2,x1_kepribadian,x2_kepribadian),mid_kepribadian(x2,x1_kepribadian,x2_kepribadian,x3_kepribadian,x4_kepribadian),good_kepribadian(x2,x3_kepribadian,x4_kepribadian),jenis_kepribadian(x2,x2_kepribadian,x3_kepribadian)])\n",
        "  \n",
        "  inference(komp,kepr)\n",
        "  \n",
        "   \n",
        "    \n",
        "\n",
        "  "
      ],
      "execution_count": null,
      "outputs": []
    },
    {
      "cell_type": "markdown",
      "metadata": {
        "id": "3vHK1paou4cZ",
        "colab_type": "text"
      },
      "source": [
        "**Pendeklarasian Rule**"
      ]
    },
    {
      "cell_type": "code",
      "metadata": {
        "id": "EQGQBuFFu5nY",
        "colab_type": "code",
        "colab": {}
      },
      "source": [
        "def inf(j_komp,j_kepr):\n",
        "  \n",
        "  \n",
        "  if(j_kepr == 0) :\n",
        "    if(j_komp == 0) :\n",
        "      con = 0\n",
        "    elif(j_komp==1):\n",
        "      con = 0\n",
        "    else:\n",
        "      con = 1\n",
        "  elif(j_kepr==1):\n",
        "    if(j_komp == 0) :\n",
        "      con = 0\n",
        "    elif(j_komp == 1) :\n",
        "      con = 1\n",
        "    else:\n",
        "      con = 1\n",
        "  elif(j_kepr==2):\n",
        "    if(j_komp == 0) :\n",
        "      con = 0\n",
        "    elif(j_komp == 1) :\n",
        "      con = 1\n",
        "    else:\n",
        "      con = 1\n",
        "  return con\n",
        " \n",
        "\n",
        "    \n",
        "  \n",
        "    \n",
        "    "
      ],
      "execution_count": null,
      "outputs": []
    },
    {
      "cell_type": "markdown",
      "metadata": {
        "id": "n7E7KK0NrISK",
        "colab_type": "text"
      },
      "source": [
        "**Dilakukan fungsi Inference**"
      ]
    },
    {
      "cell_type": "code",
      "metadata": {
        "id": "PFFd5eu1IQmp",
        "colab_type": "code",
        "colab": {}
      },
      "source": [
        "def inference(komp,kepr):\n",
        "  conside=[]\n",
        "  for i in range(30):\n",
        "    for j in range(3):\n",
        "      for k in range(3):\n",
        "        conside.append([i,inf(j,k),min(komp[i][j], kepr[i][k])])\n",
        "  defuzzification(conside)"
      ],
      "execution_count": null,
      "outputs": []
    },
    {
      "cell_type": "markdown",
      "metadata": {
        "id": "ugdcMAPL3DT4",
        "colab_type": "text"
      },
      "source": [
        "**Defuzification**\n",
        "\n",
        "\n",
        "```\n",
        "Menggunakan Metode Sugeno\n",
        "dengan Ya = 80\n",
        "dan tidak = 70\n",
        "```\n",
        "\n"
      ]
    },
    {
      "cell_type": "code",
      "metadata": {
        "id": "D9S9Gv_3LA2G",
        "colab_type": "code",
        "colab": {}
      },
      "source": [
        "def defuzzification(conside):\n",
        "  \n",
        "  j=0\n",
        "  min_iya = []\n",
        "  min_tidak =[]\n",
        "  for i in range(30):\n",
        "    iya=[]\n",
        "    tidak=[]\n",
        "    for k in range(9):\n",
        "      if conside[j][1] == 1:\n",
        "        iya.append(conside[j][2])\n",
        "      else:\n",
        "        tidak.append(conside[j][2])\n",
        "      j+=1\n",
        "    max_iya = (max(iya))\n",
        "    max_tidak = (max(tidak))\n",
        "    result = ((max_iya*80)+(max_tidak*70))/(max_iya+max_tidak) \n",
        "    if(result>=80):\n",
        "      con ='iya'\n",
        "    else:\n",
        "      con = 'tidak'\n",
        "    print('P',((i+1)),'=',con,\"(\",result,\")\")                 \n",
        "  \n",
        "   "
      ],
      "execution_count": null,
      "outputs": []
    },
    {
      "cell_type": "code",
      "metadata": {
        "id": "Em0K2NN3i0le",
        "colab_type": "code",
        "colab": {}
      },
      "source": [
        "fuzzification(id,kompetensi,kepribadian,diterima)\n"
      ],
      "execution_count": null,
      "outputs": []
    }
  ]
}